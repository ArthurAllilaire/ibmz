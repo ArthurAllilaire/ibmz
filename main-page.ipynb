{
 "cells": [
  {
   "cell_type": "markdown",
   "metadata": {},
   "source": [
    "# Find a post code\n",
    "\n",
    "## Overview\n",
    "\n",
    "\n",
    "## Navigation\n",
    "\n"
   ]
  },
  {
   "cell_type": "code",
   "execution_count": null,
   "metadata": {
    "vscode": {
     "languageId": "plaintext"
    }
   },
   "outputs": [],
   "source": [
    "import ipywidgets as widgets\n",
    "from IPython.display import display\n",
    "\n",
    "culture_options = ['Spanish', 'French']\n",
    "\n",
    "# Create the text label\n",
    "frequently_visited_label = widgets.HTML(\"<h2>Frequently Visited:</h2>\")\n",
    "\n",
    "# Create the text input box for postcode\n",
    "frequently_visited_input = widgets.Text(\n",
    "    value='',\n",
    "    placeholder='Enter postcode',\n",
    "    description='Postcode:',\n",
    "    disabled=False\n",
    ")\n",
    "\n",
    "frequently_visited_weight = widgets.FloatSlider(\n",
    "    value=0.5,  \n",
    "    min=0.0,    \n",
    "    max=1.0, \n",
    "    step=0.1,  \n",
    "    description='Weight:',\n",
    "    continuous_update=True  # Update value continuously as the slider moves\n",
    ")\n",
    "\n",
    "frequently_visited_hbox = widgets.HBox([frequently_visited_input, frequently_visited_weight])\n",
    "\n",
    "budget_label = widgets.HTML(\"<h2>Max budget:</h2>\")\n",
    "\n",
    "# Create the text input box for postcode\n",
    "budget_input = widgets.IntText(\n",
    "    value=0,\n",
    "    placeholder='Enter budget',\n",
    "    description='Budget:',\n",
    "    disabled=False\n",
    ")\n",
    "\n",
    "culture_label = widgets.HTML(\"<h2>Culture:</h2>\")\n",
    "\n",
    "# Create the text input box for postcode\n",
    "culture_input = widgets.Dropdown(\n",
    "    value='Spanish',\n",
    "    options=culture_options,\n",
    "    description='Postcode:',\n",
    "    disabled=False\n",
    ")\n",
    "\n",
    "\n",
    "# Display the label and the input field\n",
    "display(frequently_visited_label, frequently_visited_hbox, budget_label, budget_input, culture_label, culture_input)"
   ]
  },
  {
   "cell_type": "markdown",
   "metadata": {},
   "source": []
  }
 ],
 "metadata": {
  "language_info": {
   "name": "python"
  }
 },
 "nbformat": 4,
 "nbformat_minor": 2
}
