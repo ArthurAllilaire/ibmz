{
 "cells": [
  {
   "cell_type": "markdown",
   "metadata": {},
   "source": [
    "# Find a post code\n",
    "\n",
    "## Overview\n",
    "\n",
    "\n",
    "## Navigation\n",
    "\n"
   ]
  },
  {
   "cell_type": "code",
   "execution_count": 1,
   "metadata": {},
   "outputs": [
    {
     "data": {
      "text/html": [
       "\n",
       "        <iframe\n",
       "            width=\"700\"\n",
       "            height=\"500\"\n",
       "            src=\"simple_london_map.html\"\n",
       "            frameborder=\"0\"\n",
       "            allowfullscreen\n",
       "            \n",
       "        ></iframe>\n",
       "        "
      ],
      "text/plain": [
       "<IPython.lib.display.IFrame at 0x7f5b5060fe50>"
      ]
     },
     "metadata": {},
     "output_type": "display_data"
    }
   ],
   "source": [
    "import folium\n",
    "from IPython.display import IFrame, display\n",
    "\n",
    "# Create a simple Folium map centered at a specific location\n",
    "london_map = folium.Map(location=[51.5074, -0.1278], zoom_start=12)\n",
    "\n",
    "# Save the map to an HTML file\n",
    "london_map.save(\"simple_london_map.html\")\n",
    "\n",
    "# Create an IFrame to display the map\n",
    "map_iframe = IFrame(\"simple_london_map.html\", width=700, height=500)\n",
    "\n",
    "# Display the IFrame\n",
    "display(map_iframe)\n"
   ]
  },
  {
   "cell_type": "code",
   "execution_count": 1,
   "metadata": {},
   "outputs": [
    {
     "data": {
      "application/vnd.jupyter.widget-view+json": {
       "model_id": "e41dbe05b61d4243a271fb1d255d9716",
       "version_major": 2,
       "version_minor": 0
      },
      "text/plain": [
       "HTML(value='<h2>Frequently Visited:</h2>')"
      ]
     },
     "metadata": {},
     "output_type": "display_data"
    },
    {
     "data": {
      "application/vnd.jupyter.widget-view+json": {
       "model_id": "27de78bf9251413ebb467cc7cbd42ed5",
       "version_major": 2,
       "version_minor": 0
      },
      "text/plain": [
       "HBox(children=(Text(value='', description='Postcode:', placeholder='Enter postcode'), FloatSlider(value=0.5, d…"
      ]
     },
     "metadata": {},
     "output_type": "display_data"
    },
    {
     "data": {
      "application/vnd.jupyter.widget-view+json": {
       "model_id": "7225e2ccd2e54b08b6780d2697a59214",
       "version_major": 2,
       "version_minor": 0
      },
      "text/plain": [
       "HTML(value='<h2>Language:</h2>')"
      ]
     },
     "metadata": {},
     "output_type": "display_data"
    },
    {
     "data": {
      "application/vnd.jupyter.widget-view+json": {
       "model_id": "eb3cf6c374384d219e28a13bb3ebdfff",
       "version_major": 2,
       "version_minor": 0
      },
      "text/plain": [
       "HBox(children=(Dropdown(description='Language:', index=13, options=('English', 'Welsh or Cymraeg', 'Gaelic (Ir…"
      ]
     },
     "metadata": {},
     "output_type": "display_data"
    },
    {
     "data": {
      "application/vnd.jupyter.widget-view+json": {
       "model_id": "f6689d05b6c14fdf97e334d48867422a",
       "version_major": 2,
       "version_minor": 0
      },
      "text/plain": [
       "HTML(value='<h2>Rent per m²:</h2>')"
      ]
     },
     "metadata": {},
     "output_type": "display_data"
    },
    {
     "data": {
      "application/vnd.jupyter.widget-view+json": {
       "model_id": "101a61e086a6465fb6093fefc33f44c8",
       "version_major": 2,
       "version_minor": 0
      },
      "text/plain": [
       "FloatSlider(value=0.5, description='Weight:', max=1.0)"
      ]
     },
     "metadata": {},
     "output_type": "display_data"
    },
    {
     "data": {
      "application/vnd.jupyter.widget-view+json": {
       "model_id": "6fc9cb2b44394f6487d6cf27e3bc7d35",
       "version_major": 2,
       "version_minor": 0
      },
      "text/plain": [
       "HTML(value='<h2>Green Spaces:</h2>')"
      ]
     },
     "metadata": {},
     "output_type": "display_data"
    },
    {
     "data": {
      "application/vnd.jupyter.widget-view+json": {
       "model_id": "0a91197334604649805a6b9c44ba7e18",
       "version_major": 2,
       "version_minor": 0
      },
      "text/plain": [
       "FloatSlider(value=0.5, description='Weight:', max=1.0)"
      ]
     },
     "metadata": {},
     "output_type": "display_data"
    },
    {
     "data": {
      "application/vnd.jupyter.widget-view+json": {
       "model_id": "c481b16d049941d1919fe77d7e1077d8",
       "version_major": 2,
       "version_minor": 0
      },
      "text/plain": [
       "HTML(value='<h2>Crime Rate:</h2>')"
      ]
     },
     "metadata": {},
     "output_type": "display_data"
    },
    {
     "data": {
      "application/vnd.jupyter.widget-view+json": {
       "model_id": "c1536c1d0cb94a0bbe79594d9b978d57",
       "version_major": 2,
       "version_minor": 0
      },
      "text/plain": [
       "FloatSlider(value=0.5, description='Weight:', max=1.0)"
      ]
     },
     "metadata": {},
     "output_type": "display_data"
    },
    {
     "data": {
      "application/vnd.jupyter.widget-view+json": {
       "model_id": "f90baf9d95294ed99a8a0a4aa73b940c",
       "version_major": 2,
       "version_minor": 0
      },
      "text/plain": [
       "HTML(value='<h2>Schools:</h2>')"
      ]
     },
     "metadata": {},
     "output_type": "display_data"
    },
    {
     "data": {
      "application/vnd.jupyter.widget-view+json": {
       "model_id": "82ec2bf675c8466e9cbe84d5ea5d9772",
       "version_major": 2,
       "version_minor": 0
      },
      "text/plain": [
       "FloatSlider(value=0.5, description='Weight:', max=1.0)"
      ]
     },
     "metadata": {},
     "output_type": "display_data"
    },
    {
     "data": {
      "application/vnd.jupyter.widget-view+json": {
       "model_id": "1ab52b3237f54e37b59fefeb8dd1ea20",
       "version_major": 2,
       "version_minor": 0
      },
      "text/plain": [
       "Button(description='Submit', style=ButtonStyle())"
      ]
     },
     "metadata": {},
     "output_type": "display_data"
    },
    {
     "data": {
      "text/html": [
       "\n",
       "        <iframe\n",
       "            width=\"700\"\n",
       "            height=\"500\"\n",
       "            src=\"london_map.html\"\n",
       "            frameborder=\"0\"\n",
       "            allowfullscreen\n",
       "            \n",
       "        ></iframe>\n",
       "        "
      ],
      "text/plain": [
       "<IPython.lib.display.IFrame at 0x7f3112f66470>"
      ]
     },
     "metadata": {},
     "output_type": "display_data"
    },
    {
     "name": "stdout",
     "output_type": "stream",
     "text": [
      "Got here!\n",
      "sw72bb\n"
     ]
    }
   ],
   "source": [
    "import ipywidgets as widgets\n",
    "from IPython.display import display, IFrame\n",
    "\n",
    "import folium\n",
    "from languages import lang\n",
    "import final_value_calc\n",
    "import lsoa_lat_long\n",
    "\n",
    "culture_options = lang.languages\n",
    "locations = []\n",
    "\n",
    "def submit_button_pressed(b):\n",
    "    area_weighting = final_value_calc.AreaWeightings(commute_weighting=frequently_visited_weight.value, rent_per_m2=rent_weight.value, culture_weight=culture_weight.value, green_space=green_spaces_weight.value, crime=crime_rate_weight.value, schools=schools_weight.value)\n",
    "    results = final_value_calc.get_ranking_from_weights(frequently_visited_input.value, culture_input.value, area_weighting)\n",
    "    # results\n",
    "    locations.clear()\n",
    "    # Add first 25 locations to the map\n",
    "    \n",
    "    for location in results['lsoa'].head(25):\n",
    "        locations.append(lsoa_lat_long.lsoa_to_lat_long(lsoa_lat_long.lsoa_lat_long_file, location))\n",
    "    for location in locations:\n",
    "        folium.Marker(\n",
    "            location=location,\n",
    "            popup=f\"Location: {location}\",  \n",
    "            icon=folium.Icon(color='blue')\n",
    "        ).add_to(london_map)\n",
    "    # Save the map after adding markers\n",
    "    london_map.save(\"london_map.html\")\n",
    "    \n",
    "    # Update the iframe to display the new map\n",
    "    map_iframe.src = \"london_map.html\"\n",
    "\n",
    "frequently_visited_label = widgets.HTML(\"<h2>Frequently Visited:</h2>\")\n",
    "\n",
    "frequently_visited_input = widgets.Text(\n",
    "    value='',\n",
    "    placeholder='Enter postcode',\n",
    "    description='Postcode:',\n",
    "    disabled=False\n",
    ")\n",
    "\n",
    "frequently_visited_weight = widgets.FloatSlider(\n",
    "    value=0.5,  \n",
    "    min=0.0,    \n",
    "    max=1.0, \n",
    "    step=0.1,  \n",
    "    description='Weight:',\n",
    "    continuous_update=True  \n",
    ")\n",
    "\n",
    "frequently_visited_hbox = widgets.HBox([frequently_visited_input, frequently_visited_weight])\n",
    "\n",
    "budget_label = widgets.HTML(\"<h2>Max budget:</h2>\")\n",
    "\n",
    "# Create the text input box for postcode\n",
    "budget_input = widgets.IntText(\n",
    "    value=0,\n",
    "    placeholder='Enter budget',\n",
    "    description='Budget:',\n",
    "    disabled=False\n",
    ")\n",
    "\n",
    "\n",
    "culture_label = widgets.HTML(\"<h2>Language:</h2>\")\n",
    "\n",
    "culture_input = widgets.Dropdown(\n",
    "    value='Spanish',\n",
    "    options=culture_options,\n",
    "    description='Language:',\n",
    "    disabled=False\n",
    ")\n",
    "\n",
    "culture_weight = widgets.FloatSlider(\n",
    "    value=0.5,  \n",
    "    min=0.0,    \n",
    "    max=1.0, \n",
    "    step=0.1,  \n",
    "    description='Weight:',\n",
    "    continuous_update=True  \n",
    ")\n",
    "\n",
    "culture_hbox = widgets.HBox([culture_input, culture_weight])\n",
    "\n",
    "green_spaces_label = widgets.HTML(\"<h2>Green Spaces:</h2>\")\n",
    "green_spaces_weight = widgets.FloatSlider(\n",
    "    value=0.5,\n",
    "    min=0.0,\n",
    "    max=1.0,\n",
    "    step=0.1,\n",
    "    description='Weight:',\n",
    "    continuous_update=True\n",
    ")\n",
    "\n",
    "crime_rate_label = widgets.HTML(\"<h2>Crime Rate:</h2>\")\n",
    "crime_rate_weight = widgets.FloatSlider(\n",
    "    value=0.5,\n",
    "    min=0.0,\n",
    "    max=1.0,\n",
    "    step=0.1,\n",
    "    description='Weight:',\n",
    "    continuous_update=True\n",
    ")\n",
    "\n",
    "schools_label = widgets.HTML(\"<h2>Schools:</h2>\")\n",
    "schools_weight = widgets.FloatSlider(\n",
    "    value=0.5,\n",
    "    min=0.0,\n",
    "    max=1.0,\n",
    "    step=0.1,\n",
    "    description='Weight:',\n",
    "    continuous_update=True\n",
    ")\n",
    "\n",
    "rent_label = widgets.HTML(\"<h2>Rent per m²:</h2>\")\n",
    "rent_weight = widgets.FloatSlider(\n",
    "    value=0.5,\n",
    "    min=0.0,\n",
    "    max=1.0,\n",
    "    step=0.1,\n",
    "    description='Weight:',\n",
    "    continuous_update=True\n",
    ")\n",
    "\n",
    "submit_button = widgets.Button(description='Submit')\n",
    "submit_button.on_click(submit_button_pressed)\n",
    "\n",
    "\n",
    "\n",
    "london_map = folium.Map(location=[51.5074, -0.1278], zoom_start=12)\n",
    "\n",
    "# for location in locations:\n",
    "#     folium.Marker(\n",
    "#         location=location,\n",
    "#         popup=f\"Location: {location}\",  \n",
    "#         icon=folium.Icon(color='blue')\n",
    "#     ).add_to(london_map)\n",
    "\n",
    "london_map.save(\"london_map.html\")\n",
    "\n",
    "map_iframe = IFrame(\"london_map.html\", width=700, height=500)\n",
    "\n",
    "display(frequently_visited_label, frequently_visited_hbox, \n",
    "culture_label, culture_hbox, \n",
    "rent_label, rent_weight, \n",
    " green_spaces_label, green_spaces_weight,\n",
    "    crime_rate_label, crime_rate_weight,\n",
    "    schools_label, schools_weight,   \n",
    "    submit_button, map_iframe\n",
    ")\n",
    "\n"
   ]
  },
  {
   "cell_type": "code",
   "execution_count": 1,
   "metadata": {},
   "outputs": [
    {
     "data": {
      "application/vnd.jupyter.widget-view+json": {
       "model_id": "5d1c3129291e4dcf99f927a24e3f7b53",
       "version_major": 2,
       "version_minor": 0
      },
      "text/plain": [
       "HTML(value='<h2>Frequently Visited:</h2>')"
      ]
     },
     "metadata": {},
     "output_type": "display_data"
    },
    {
     "data": {
      "application/vnd.jupyter.widget-view+json": {
       "model_id": "3f3860923c5c49f482dcd25de07ffa5a",
       "version_major": 2,
       "version_minor": 0
      },
      "text/plain": [
       "HBox(children=(Text(value='', description='Postcode:', placeholder='Enter postcode'), FloatSlider(value=0.5, d…"
      ]
     },
     "metadata": {},
     "output_type": "display_data"
    },
    {
     "data": {
      "application/vnd.jupyter.widget-view+json": {
       "model_id": "56d20bcc6fd444888c0c2d369f86f342",
       "version_major": 2,
       "version_minor": 0
      },
      "text/plain": [
       "Button(description='Submit', style=ButtonStyle())"
      ]
     },
     "metadata": {},
     "output_type": "display_data"
    },
    {
     "data": {
      "text/html": [
       "\n",
       "        <iframe\n",
       "            width=\"700\"\n",
       "            height=\"500\"\n",
       "            src=\"london_map.html\"\n",
       "            frameborder=\"0\"\n",
       "            allowfullscreen\n",
       "            \n",
       "        ></iframe>\n",
       "        "
      ],
      "text/plain": [
       "<IPython.lib.display.IFrame at 0x7f16e9fb36a0>"
      ]
     },
     "metadata": {},
     "output_type": "display_data"
    },
    {
     "ename": "NameError",
     "evalue": "name 'rent_weight' is not defined",
     "output_type": "error",
     "traceback": [
      "\u001b[0;31m---------------------------------------------------------------------------\u001b[0m",
      "\u001b[0;31mNameError\u001b[0m                                 Traceback (most recent call last)",
      "Cell \u001b[0;32mIn[1], line 21\u001b[0m, in \u001b[0;36msubmit_button_pressed\u001b[0;34m(b)\u001b[0m\n\u001b[1;32m     18\u001b[0m \u001b[38;5;28;01mdef\u001b[39;00m \u001b[38;5;21msubmit_button_pressed\u001b[39m(b):\n\u001b[1;32m     19\u001b[0m     area_weighting \u001b[38;5;241m=\u001b[39m final_value_calc\u001b[38;5;241m.\u001b[39mAreaWeightings(\n\u001b[1;32m     20\u001b[0m         commute_weighting\u001b[38;5;241m=\u001b[39mfrequently_visited_weight\u001b[38;5;241m.\u001b[39mvalue,\n\u001b[0;32m---> 21\u001b[0m         rent_per_m2\u001b[38;5;241m=\u001b[39m\u001b[43mrent_weight\u001b[49m\u001b[38;5;241m.\u001b[39mvalue,\n\u001b[1;32m     22\u001b[0m         culture_weight\u001b[38;5;241m=\u001b[39mculture_weight\u001b[38;5;241m.\u001b[39mvalue,\n\u001b[1;32m     23\u001b[0m         green_space\u001b[38;5;241m=\u001b[39mgreen_spaces_weight\u001b[38;5;241m.\u001b[39mvalue,\n\u001b[1;32m     24\u001b[0m         crime\u001b[38;5;241m=\u001b[39mcrime_rate_weight\u001b[38;5;241m.\u001b[39mvalue,\n\u001b[1;32m     25\u001b[0m         schools\u001b[38;5;241m=\u001b[39mschools_weight\u001b[38;5;241m.\u001b[39mvalue\n\u001b[1;32m     26\u001b[0m     )\n\u001b[1;32m     28\u001b[0m     results \u001b[38;5;241m=\u001b[39m final_value_calc\u001b[38;5;241m.\u001b[39mget_ranking_from_weights(\n\u001b[1;32m     29\u001b[0m         frequently_visited_input\u001b[38;5;241m.\u001b[39mvalue,\n\u001b[1;32m     30\u001b[0m         culture_input\u001b[38;5;241m.\u001b[39mvalue,\n\u001b[1;32m     31\u001b[0m         area_weighting\n\u001b[1;32m     32\u001b[0m     )\n\u001b[1;32m     34\u001b[0m     \u001b[38;5;66;03m# Clear previous locations\u001b[39;00m\n",
      "\u001b[0;31mNameError\u001b[0m: name 'rent_weight' is not defined"
     ]
    }
   ],
   "source": [
    "import ipywidgets as widgets\n",
    "from IPython.display import display, IFrame\n",
    "import folium\n",
    "from languages import lang\n",
    "import final_value_calc\n",
    "import lsoa_lat_long\n",
    "\n",
    "culture_options = lang.languages\n",
    "locations = []\n",
    "\n",
    "# Create the map once\n",
    "london_map = folium.Map(location=[51.5074, -0.1278], zoom_start=12)\n",
    "london_map.save(\"london_map.html\")\n",
    "\n",
    "# IFrame to display the map\n",
    "map_iframe = IFrame(\"london_map.html\", width=700, height=500)\n",
    "\n",
    "def submit_button_pressed(b):\n",
    "    area_weighting = final_value_calc.AreaWeightings(\n",
    "        commute_weighting=frequently_visited_weight.value,\n",
    "        rent_per_m2=rent_weight.value,\n",
    "        culture_weight=culture_weight.value,\n",
    "        green_space=green_spaces_weight.value,\n",
    "        crime=crime_rate_weight.value,\n",
    "        schools=schools_weight.value\n",
    "    )\n",
    "    \n",
    "    results = final_value_calc.get_ranking_from_weights(\n",
    "        frequently_visited_input.value,\n",
    "        culture_input.value,\n",
    "        area_weighting\n",
    "    )\n",
    "    \n",
    "    # Clear previous locations\n",
    "    locations.clear()\n",
    "    \n",
    "    # Add first 25 locations to the list and the map\n",
    "    for location in results['lsoa'].head(25):\n",
    "        locations.append(lsoa_lat_long.lsoa_to_lat_long(lsoa_lat_long.lsoa_lat_long_file, location))\n",
    "    \n",
    "    # Add markers to the map\n",
    "    for location in locations:\n",
    "        folium.Marker(\n",
    "            location=location,\n",
    "            popup=f\"Location: {location}\",  \n",
    "            icon=folium.Icon(color='blue')\n",
    "        ).add_to(london_map)\n",
    "    \n",
    "    # Save the map after adding markers\n",
    "    london_map.save(\"london_map.html\")\n",
    "    \n",
    "    # Update the iframe to display the new map\n",
    "    map_iframe.src = \"london_map.html\"\n",
    "\n",
    "# Create and display the widgets\n",
    "frequently_visited_label = widgets.HTML(\"<h2>Frequently Visited:</h2>\")\n",
    "frequently_visited_input = widgets.Text(value='', placeholder='Enter postcode', description='Postcode:', disabled=False)\n",
    "frequently_visited_weight = widgets.FloatSlider(value=0.5, min=0.0, max=1.0, step=0.1, description='Weight:', continuous_update=True)\n",
    "frequently_visited_hbox = widgets.HBox([frequently_visited_input, frequently_visited_weight])\n",
    "\n",
    "# Add other widgets for budget, language, weights, etc. (omitted for brevity)\n",
    "\n",
    "submit_button = widgets.Button(description='Submit')\n",
    "submit_button.on_click(submit_button_pressed)\n",
    "\n",
    "# Display all widgets and the map iframe\n",
    "display(frequently_visited_label, frequently_visited_hbox, submit_button, map_iframe)\n"
   ]
  },
  {
   "cell_type": "markdown",
   "metadata": {},
   "source": []
  }
 ],
 "metadata": {
  "kernelspec": {
   "display_name": "env",
   "language": "python",
   "name": "python3"
  },
  "language_info": {
   "codemirror_mode": {
    "name": "ipython",
    "version": 3
   },
   "file_extension": ".py",
   "mimetype": "text/x-python",
   "name": "python",
   "nbconvert_exporter": "python",
   "pygments_lexer": "ipython3",
   "version": "3.10.12"
  }
 },
 "nbformat": 4,
 "nbformat_minor": 2
}
