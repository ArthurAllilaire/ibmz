{
 "cells": [
  {
   "cell_type": "markdown",
   "metadata": {},
   "source": [
    "# Find a post code\n",
    "\n",
    "## Overview\n",
    "\n",
    "\n",
    "## Navigation\n",
    "\n"
   ]
  },
  {
   "cell_type": "code",
   "execution_count": null,
   "metadata": {},
   "outputs": [],
   "source": []
  },
  {
   "cell_type": "code",
   "execution_count": 1,
   "metadata": {},
   "outputs": [
    {
     "data": {
      "application/vnd.jupyter.widget-view+json": {
       "model_id": "5ec1fa9866144cc59c4c3bc099635108",
       "version_major": 2,
       "version_minor": 0
      },
      "text/plain": [
       "HTML(value='<h2>Frequently Visited:</h2>')"
      ]
     },
     "metadata": {},
     "output_type": "display_data"
    },
    {
     "data": {
      "application/vnd.jupyter.widget-view+json": {
       "model_id": "662633ddc5e34f09990f73b708c11bb9",
       "version_major": 2,
       "version_minor": 0
      },
      "text/plain": [
       "HBox(children=(Text(value='', description='Postcode:', placeholder='Enter postcode'), FloatSlider(value=0.5, d…"
      ]
     },
     "metadata": {},
     "output_type": "display_data"
    },
    {
     "data": {
      "application/vnd.jupyter.widget-view+json": {
       "model_id": "9798673982fc432c97690ae6a0839765",
       "version_major": 2,
       "version_minor": 0
      },
      "text/plain": [
       "HTML(value='<h2>Language:</h2>')"
      ]
     },
     "metadata": {},
     "output_type": "display_data"
    },
    {
     "data": {
      "application/vnd.jupyter.widget-view+json": {
       "model_id": "8c74e033a8384da7a86f0291e0763f61",
       "version_major": 2,
       "version_minor": 0
      },
      "text/plain": [
       "HBox(children=(Dropdown(description='Language:', index=13, options=('English', 'Welsh or Cymraeg', 'Gaelic (Ir…"
      ]
     },
     "metadata": {},
     "output_type": "display_data"
    },
    {
     "data": {
      "application/vnd.jupyter.widget-view+json": {
       "model_id": "fcdb2b084f48472b8ded802fc894af28",
       "version_major": 2,
       "version_minor": 0
      },
      "text/plain": [
       "HTML(value='<h2>Rent per m²:</h2>')"
      ]
     },
     "metadata": {},
     "output_type": "display_data"
    },
    {
     "data": {
      "application/vnd.jupyter.widget-view+json": {
       "model_id": "3942e2abddf441c991e3df075ca348fb",
       "version_major": 2,
       "version_minor": 0
      },
      "text/plain": [
       "FloatSlider(value=0.5, description='Weight:', max=1.0)"
      ]
     },
     "metadata": {},
     "output_type": "display_data"
    },
    {
     "data": {
      "application/vnd.jupyter.widget-view+json": {
       "model_id": "03655212a5184257bad71d3024cae7be",
       "version_major": 2,
       "version_minor": 0
      },
      "text/plain": [
       "HTML(value='<h2>Green Spaces:</h2>')"
      ]
     },
     "metadata": {},
     "output_type": "display_data"
    },
    {
     "data": {
      "application/vnd.jupyter.widget-view+json": {
       "model_id": "48f0adf41b9e49e8bf29a83314497c8f",
       "version_major": 2,
       "version_minor": 0
      },
      "text/plain": [
       "FloatSlider(value=0.5, description='Weight:', max=1.0)"
      ]
     },
     "metadata": {},
     "output_type": "display_data"
    },
    {
     "data": {
      "application/vnd.jupyter.widget-view+json": {
       "model_id": "206c75cb55bb46baa2e8bb1ef2b7bfbf",
       "version_major": 2,
       "version_minor": 0
      },
      "text/plain": [
       "HTML(value='<h2>Crime Rate:</h2>')"
      ]
     },
     "metadata": {},
     "output_type": "display_data"
    },
    {
     "data": {
      "application/vnd.jupyter.widget-view+json": {
       "model_id": "700e2899545e4b09ad6c2fb85cbc77ad",
       "version_major": 2,
       "version_minor": 0
      },
      "text/plain": [
       "FloatSlider(value=0.5, description='Weight:', max=1.0)"
      ]
     },
     "metadata": {},
     "output_type": "display_data"
    },
    {
     "data": {
      "application/vnd.jupyter.widget-view+json": {
       "model_id": "3a9a7fb27ab74346a3c0cfeb77485386",
       "version_major": 2,
       "version_minor": 0
      },
      "text/plain": [
       "HTML(value='<h2>Schools:</h2>')"
      ]
     },
     "metadata": {},
     "output_type": "display_data"
    },
    {
     "data": {
      "application/vnd.jupyter.widget-view+json": {
       "model_id": "afb7b001e8694ea88cef8ac3176b04e1",
       "version_major": 2,
       "version_minor": 0
      },
      "text/plain": [
       "FloatSlider(value=0.5, description='Weight:', max=1.0)"
      ]
     },
     "metadata": {},
     "output_type": "display_data"
    },
    {
     "data": {
      "application/vnd.jupyter.widget-view+json": {
       "model_id": "d3ab968d94ef4c91bf199ed7e42a1c2b",
       "version_major": 2,
       "version_minor": 0
      },
      "text/plain": [
       "Button(description='Submit', style=ButtonStyle())"
      ]
     },
     "metadata": {},
     "output_type": "display_data"
    },
    {
     "name": "stdout",
     "output_type": "stream",
     "text": [
      "Got here!\n",
      "sw72bb\n",
      "E01003176\n",
      "E01003034\n",
      "E01003120\n",
      "E01004030\n",
      "E01003024\n",
      "E01003136\n",
      "E01003020\n",
      "E01003050\n",
      "E01003091\n",
      "E01003025\n",
      "E01003040\n",
      "E01003042\n",
      "E01004023\n",
      "E01003018\n",
      "E01003137\n",
      "E01003023\n",
      "E01003037\n",
      "E01004034\n",
      "E01003162\n",
      "E01003173\n",
      "E01003943\n",
      "E01003126\n",
      "E01004033\n",
      "E01003119\n",
      "E01003029\n",
      "q\n"
     ]
    },
    {
     "data": {
      "text/html": [
       "\n",
       "        <iframe\n",
       "            width=\"700\"\n",
       "            height=\"500\"\n",
       "            src=\"london_map.html\"\n",
       "            frameborder=\"0\"\n",
       "            allowfullscreen\n",
       "            \n",
       "        ></iframe>\n",
       "        "
      ],
      "text/plain": [
       "<IPython.lib.display.IFrame at 0x7fdb86d61c30>"
      ]
     },
     "metadata": {},
     "output_type": "display_data"
    }
   ],
   "source": [
    "import ipywidgets as widgets\n",
    "from IPython.display import display, IFrame\n",
    "\n",
    "import folium\n",
    "from languages import lang\n",
    "import final_value_calc\n",
    "import lsoa_lat_long\n",
    "\n",
    "culture_options = lang.languages\n",
    "locations = []\n",
    "\n",
    "def submit_button_pressed(b):\n",
    "    area_weighting = final_value_calc.AreaWeightings(commute_weighting=frequently_visited_weight.value, rent_per_m2=rent_weight.value, culture_weight=culture_weight.value, green_space=green_spaces_weight.value, crime=crime_rate_weight.value, schools=schools_weight.value)\n",
    "    results = final_value_calc.get_ranking_from_weights(frequently_visited_input.value, culture_input.value, area_weighting)\n",
    "    results\n",
    "    # Add first 25 locations to the map\n",
    "    \n",
    "    for location in results['lsoa'].head(25):\n",
    "        locations.append(lsoa_lat_long.lsoa_to_lat_long(lsoa_lat_long.lsoa_lat_long_file, location))\n",
    "    # for location in locations:\n",
    "        # folium.Marker(\n",
    "        #     location=location,\n",
    "        #     popup=f\"Location: {location}\",  \n",
    "        #     icon=folium.Icon(color='blue')\n",
    "        # ).add_to(london_map)\n",
    "    print(\"q\")\n",
    "    display(map_iframe)\n",
    "\n",
    "frequently_visited_label = widgets.HTML(\"<h2>Frequently Visited:</h2>\")\n",
    "\n",
    "frequently_visited_input = widgets.Text(\n",
    "    value='',\n",
    "    placeholder='Enter postcode',\n",
    "    description='Postcode:',\n",
    "    disabled=False\n",
    ")\n",
    "\n",
    "frequently_visited_weight = widgets.FloatSlider(\n",
    "    value=0.5,  \n",
    "    min=0.0,    \n",
    "    max=1.0, \n",
    "    step=0.1,  \n",
    "    description='Weight:',\n",
    "    continuous_update=True  \n",
    ")\n",
    "\n",
    "frequently_visited_hbox = widgets.HBox([frequently_visited_input, frequently_visited_weight])\n",
    "\n",
    "budget_label = widgets.HTML(\"<h2>Max budget:</h2>\")\n",
    "\n",
    "# Create the text input box for postcode\n",
    "budget_input = widgets.IntText(\n",
    "    value=0,\n",
    "    placeholder='Enter budget',\n",
    "    description='Budget:',\n",
    "    disabled=False\n",
    ")\n",
    "\n",
    "\n",
    "culture_label = widgets.HTML(\"<h2>Language:</h2>\")\n",
    "\n",
    "culture_input = widgets.Dropdown(\n",
    "    value='Spanish',\n",
    "    options=culture_options,\n",
    "    description='Language:',\n",
    "    disabled=False\n",
    ")\n",
    "\n",
    "culture_weight = widgets.FloatSlider(\n",
    "    value=0.5,  \n",
    "    min=0.0,    \n",
    "    max=1.0, \n",
    "    step=0.1,  \n",
    "    description='Weight:',\n",
    "    continuous_update=True  \n",
    ")\n",
    "\n",
    "culture_hbox = widgets.HBox([culture_input, culture_weight])\n",
    "\n",
    "green_spaces_label = widgets.HTML(\"<h2>Green Spaces:</h2>\")\n",
    "green_spaces_weight = widgets.FloatSlider(\n",
    "    value=0.5,\n",
    "    min=0.0,\n",
    "    max=1.0,\n",
    "    step=0.1,\n",
    "    description='Weight:',\n",
    "    continuous_update=True\n",
    ")\n",
    "\n",
    "crime_rate_label = widgets.HTML(\"<h2>Crime Rate:</h2>\")\n",
    "crime_rate_weight = widgets.FloatSlider(\n",
    "    value=0.5,\n",
    "    min=0.0,\n",
    "    max=1.0,\n",
    "    step=0.1,\n",
    "    description='Weight:',\n",
    "    continuous_update=True\n",
    ")\n",
    "\n",
    "schools_label = widgets.HTML(\"<h2>Schools:</h2>\")\n",
    "schools_weight = widgets.FloatSlider(\n",
    "    value=0.5,\n",
    "    min=0.0,\n",
    "    max=1.0,\n",
    "    step=0.1,\n",
    "    description='Weight:',\n",
    "    continuous_update=True\n",
    ")\n",
    "\n",
    "rent_label = widgets.HTML(\"<h2>Rent per m²:</h2>\")\n",
    "rent_weight = widgets.FloatSlider(\n",
    "    value=0.5,\n",
    "    min=0.0,\n",
    "    max=1.0,\n",
    "    step=0.1,\n",
    "    description='Weight:',\n",
    "    continuous_update=True\n",
    ")\n",
    "\n",
    "submit_button = widgets.Button(description='Submit')\n",
    "submit_button.on_click(submit_button_pressed)\n",
    "\n",
    "\n",
    "\n",
    "london_map = folium.Map(location=[51.5074, -0.1278], zoom_start=12)\n",
    "\n",
    "# for location in locations:\n",
    "#     folium.Marker(\n",
    "#         location=location,\n",
    "#         popup=f\"Location: {location}\",  \n",
    "#         icon=folium.Icon(color='blue')\n",
    "#     ).add_to(london_map)\n",
    "\n",
    "london_map.save(\"london_map.html\")\n",
    "\n",
    "map_iframe = IFrame(\"london_map.html\", width=700, height=500)\n",
    "\n",
    "display(frequently_visited_label, frequently_visited_hbox, \n",
    "culture_label, culture_hbox, \n",
    "rent_label, rent_weight, \n",
    " green_spaces_label, green_spaces_weight,\n",
    "    crime_rate_label, crime_rate_weight,\n",
    "    schools_label, schools_weight,   \n",
    "    submit_button,\n",
    ")\n",
    "\n"
   ]
  },
  {
   "cell_type": "markdown",
   "metadata": {},
   "source": []
  }
 ],
 "metadata": {
  "kernelspec": {
   "display_name": "env",
   "language": "python",
   "name": "python3"
  },
  "language_info": {
   "codemirror_mode": {
    "name": "ipython",
    "version": 3
   },
   "file_extension": ".py",
   "mimetype": "text/x-python",
   "name": "python",
   "nbconvert_exporter": "python",
   "pygments_lexer": "ipython3",
   "version": "3.10.12"
  }
 },
 "nbformat": 4,
 "nbformat_minor": 2
}
