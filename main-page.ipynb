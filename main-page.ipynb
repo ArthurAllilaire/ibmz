{
 "cells": [
  {
   "cell_type": "markdown",
   "metadata": {},
   "source": [
    "# Find a post code\n",
    "\n",
    "## Overview\n",
    "\n",
    "\n",
    "## Navigation\n",
    "\n"
   ]
  },
  {
   "cell_type": "code",
   "execution_count": null,
   "metadata": {
    "vscode": {
     "languageId": "plaintext"
    }
   },
   "outputs": [],
   "source": [
    "import ipywidgets as widgets\n",
    "from IPython.display import display\n",
    "\n",
    "# Create a list of items with checkboxes\n",
    "checkboxes = [widgets.Checkbox(description=f\"Option {i}\", value=False) for i in range(1, 6)]\n",
    "\n",
    "# Display the checkboxes\n",
    "for checkbox in checkboxes:\n",
    "    display(checkbox)\n"
   ]
  }
 ],
 "metadata": {
  "language_info": {
   "name": "python"
  }
 },
 "nbformat": 4,
 "nbformat_minor": 2
}
