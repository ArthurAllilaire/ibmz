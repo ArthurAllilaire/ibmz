{
 "cells": [
  {
   "cell_type": "markdown",
   "metadata": {},
   "source": [
    "# Find a post code\n",
    "\n",
    "## Overview\n",
    "\n",
    "\n",
    "## Navigation\n",
    "\n"
   ]
  },
  {
   "cell_type": "code",
   "execution_count": null,
   "metadata": {
    "vscode": {
     "languageId": "plaintext"
    }
   },
   "outputs": [],
   "source": [
    "import ipywidgets as widgets\n",
    "from IPython.display import display\n",
    "\n",
    "culture_options = ['Spanish', 'French']\n",
    "\n",
    "def submit_button_pressed():\n",
    "\n",
    "frequently_visited_label = widgets.HTML(\"<h2>Frequently Visited:</h2>\")\n",
    "\n",
    "frequently_visited_input = widgets.Text(\n",
    "    value='',\n",
    "    placeholder='Enter postcode',\n",
    "    description='Postcode:',\n",
    "    disabled=False\n",
    ")\n",
    "\n",
    "frequently_visited_weight = widgets.FloatSlider(\n",
    "    value=0.5,  \n",
    "    min=0.0,    \n",
    "    max=1.0, \n",
    "    step=0.1,  \n",
    "    description='Weight:',\n",
    "    continuous_update=True  \n",
    ")\n",
    "\n",
    "frequently_visited_hbox = widgets.HBox([frequently_visited_input, frequently_visited_weight])\n",
    "\n",
    "budget_label = widgets.HTML(\"<h2>Max budget:</h2>\")\n",
    "\n",
    "# Create the text input box for postcode\n",
    "budget_input = widgets.IntText(\n",
    "    value=0,\n",
    "    placeholder='Enter budget',\n",
    "    description='Budget:',\n",
    "    disabled=False\n",
    ")\n",
    "\n",
    "budget_weight = widgets.FloatSlider(\n",
    "    value=0.5,  \n",
    "    min=0.0,    \n",
    "    max=1.0, \n",
    "    step=0.1,  \n",
    "    description='Weight:',\n",
    "    continuous_update=True  \n",
    ")\n",
    "\n",
    "budget_hbox = widgets.HBox([budget_input, budget_weight])\n",
    "\n",
    "culture_label = widgets.HTML(\"<h2>Culture:</h2>\")\n",
    "\n",
    "culture_input = widgets.Dropdown(\n",
    "    value='Spanish',\n",
    "    options=culture_options,\n",
    "    description='Postcode:',\n",
    "    disabled=False\n",
    ")\n",
    "\n",
    "culture_weight = widgets.FloatSlider(\n",
    "    value=0.5,  \n",
    "    min=0.0,    \n",
    "    max=1.0, \n",
    "    step=0.1,  \n",
    "    description='Weight:',\n",
    "    continuous_update=True  \n",
    ")\n",
    "\n",
    "culture_hbox = widgets.HBox([culture_input, culture_weight])\n",
    "\n",
    "submit_button = widgets.Button(description='Submit')\n",
    "submit_button.on_click(submit_button_pressed)\n",
    "\n",
    "display(frequently_visited_label, frequently_visited_hbox, budget_label, budget_hbox, culture_label, culture_hbox, submit_button)"
   ]
  },
  {
   "cell_type": "markdown",
   "metadata": {},
   "source": []
  }
 ],
 "metadata": {
  "language_info": {
   "name": "python"
  }
 },
 "nbformat": 4,
 "nbformat_minor": 2
}
