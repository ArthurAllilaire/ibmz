{
 "cells": [
  {
   "cell_type": "code",
   "execution_count": 1,
   "metadata": {},
   "outputs": [
    {
     "name": "stdout",
     "output_type": "stream",
     "text": [
      "              OA       LSOA          LAD  Rent_per_m  green_spac  travel  \\\n",
      "23213  E00023928  E01004734  Westminster        1228    0.733333     1.0   \n",
      "23214  E00023929  E01004734  Westminster        3129    0.733333     1.0   \n",
      "23216  E00023931  E01004734  Westminster        2421    0.690833     1.0   \n",
      "23218  E00023933  E01004734  Westminster        3513    0.733333     1.0   \n",
      "23219  E00023934  E01004734  Westminster        1801    0.733333     1.0   \n",
      "\n",
      "       safety  schools  \n",
      "23213     0.0     0.85  \n",
      "23214     0.0     0.85  \n",
      "23216     0.0     0.85  \n",
      "23218     0.0     0.85  \n",
      "23219     0.0     0.85  \n"
     ]
    }
   ],
   "source": [
    "import pandas as pd\n",
    "\n",
    "# Load the CSV file into a DataFrame\n",
    "df = pd.read_csv('summary.csv')\n",
    "\n",
    "# Display the 5 least safe boroughs\n",
    "least_safe_boroughs = df.nsmallest(5, 'safety')\n",
    "print(least_safe_boroughs[['OA', 'LSOA', 'LAD', 'Rent_per_m', 'green_spac', 'travel', 'safety', 'schools']])"
   ]
  },
  {
   "cell_type": "code",
   "execution_count": 2,
   "metadata": {},
   "outputs": [
    {
     "name": "stdout",
     "output_type": "stream",
     "text": [
      "Empty DataFrame\n",
      "Columns: [OA, LSOA, LAD, Rent_per_m, green_spac, travel, safety, schools]\n",
      "Index: []\n"
     ]
    }
   ],
   "source": [
    "entry_W14 = df[df['OA'] == 'W14']\n",
    "print(entry_W14)"
   ]
  }
 ],
 "metadata": {
  "kernelspec": {
   "display_name": "env",
   "language": "python",
   "name": "python3"
  },
  "language_info": {
   "codemirror_mode": {
    "name": "ipython",
    "version": 3
   },
   "file_extension": ".py",
   "mimetype": "text/x-python",
   "name": "python",
   "nbconvert_exporter": "python",
   "pygments_lexer": "ipython3",
   "version": "3.10.12"
  }
 },
 "nbformat": 4,
 "nbformat_minor": 2
}
